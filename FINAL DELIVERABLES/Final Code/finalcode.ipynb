{
  "nbformat": 4,
  "nbformat_minor": 0,
  "metadata": {
    "colab": {
      "provenance": []
    },
    "kernelspec": {
      "name": "python3",
      "display_name": "Python 3"
    },
    "language_info": {
      "name": "python"
    }
  },
  "cells": [
    {
      "cell_type": "code",
      "execution_count": null,
      "metadata": {
        "id": "Ez_zXf37IqBG"
      },
      "outputs": [],
      "source": []
    },
    {
      "cell_type": "code",
      "source": [
        "from google.colab import drive\n",
        "drive.mount('/content/drive')"
      ],
      "metadata": {
        "id": "oihjei4-I4tZ",
        "colab": {
          "base_uri": "https://localhost:8080/"
        },
        "outputId": "54204f13-c242-4f2f-ca09-c157118bc84d"
      },
      "execution_count": 1,
      "outputs": [
        {
          "output_type": "stream",
          "name": "stdout",
          "text": [
            "Mounted at /content/drive\n"
          ]
        }
      ]
    },
    {
      "cell_type": "code",
      "source": [
        "!unzip drive/MyDrive/archive\\ \\(1\\).zip"
      ],
      "metadata": {
        "colab": {
          "base_uri": "https://localhost:8080/"
        },
        "id": "g83J1LkkKhUQ",
        "outputId": "ce25abf1-2bc9-4259-b80c-f2943f5f5e07"
      },
      "execution_count": 2,
      "outputs": [
        {
          "output_type": "stream",
          "name": "stdout",
          "text": [
            "Archive:  drive/MyDrive/archive (1).zip\n",
            "  inflating: Dataset/Dataset/test_set/forest/0.48007200_1530881924_final_forest.jpg  \n",
            "  inflating: Dataset/Dataset/test_set/forest/0.64133000_1519374442_forest_deep.jpg  \n",
            "  inflating: Dataset/Dataset/test_set/forest/0.72918000_1559733279_forests1_gettyimages_.jpg  \n",
            "  inflating: Dataset/Dataset/test_set/forest/0.98884800_1554454572_spin.jpg  \n",
            "  inflating: Dataset/Dataset/test_set/forest/01_NeilBurnell_Mystical_photoverticall.jpg  \n",
            "  inflating: Dataset/Dataset/test_set/forest/091318_LH_forest_loss_main_FREE.jpg  \n",
            "  inflating: Dataset/Dataset/test_set/forest/1009821.jpg  \n",
            "  inflating: Dataset/Dataset/test_set/forest/111188170_river_in_the_mountain_forest.jpg  \n",
            "  inflating: Dataset/Dataset/test_set/forest/1170x500_Ireland_web.jpg  \n",
            "  inflating: Dataset/Dataset/test_set/forest/1200px_Mountainarea.jpg  \n",
            "  inflating: Dataset/Dataset/test_set/forest/146019.jpg  \n",
            "  inflating: Dataset/Dataset/test_set/forest/1506697583544.jpg  \n",
            "  inflating: Dataset/Dataset/test_set/forest/1551622076_img_5241.jpg  \n",
            "  inflating: Dataset/Dataset/test_set/forest/1551903255_2942.jpg  \n",
            "  inflating: Dataset/Dataset/test_set/forest/1556508284pexels_photo_1179229.jpeg  \n",
            "  inflating: Dataset/Dataset/test_set/forest/16475617_web1_ForestHealth_VIB_190418_2.jpg  \n",
            "  inflating: Dataset/Dataset/test_set/forest/18435324436_6a20e7fc70_k.jpg  \n",
            "  inflating: Dataset/Dataset/test_set/forest/1_chimp.jpg  \n",
            "  inflating: Dataset/Dataset/test_set/forest/200px_View_of_Lake_Moraine.jpg  \n",
            "  inflating: Dataset/Dataset/test_set/forest/2017_10_12_09_01_56.jpg  \n",
            "  inflating: Dataset/Dataset/test_set/forest/220px_The_forest_near_Blatets__Vinitsa.JPG  \n",
            "  inflating: Dataset/Dataset/test_set/forest/23769_pcbkrdossw_1500310327.jpg  \n",
            "  inflating: Dataset/Dataset/test_set/forest/2E215059_55C7_417B_8DDD693AA6E416B4_source.jpg  \n",
            "  inflating: Dataset/Dataset/test_set/forest/31105585103_4c32392ac1_k.jpg  \n",
            "  inflating: Dataset/Dataset/test_set/forest/381417.jpg  \n",
            "  inflating: Dataset/Dataset/test_set/forest/4632581118_dcfb9ed978_b.jpg.860x0_q70_crop_scale.jpg  \n",
            "  inflating: Dataset/Dataset/test_set/forest/4fe3f4e45d6bb93070989b8bbb77d30e.jpg  \n",
            "  inflating: Dataset/Dataset/test_set/forest/4k_timelapse_heavy_rain_on_mountain_forest_tree_fog_motion_bad_weather_condition_rfift1zh_thumbnail_.png  \n",
            "  inflating: Dataset/Dataset/test_set/forest/5325.jpg  \n",
            "  inflating: Dataset/Dataset/test_set/forest/5472.jpg  \n",
            "  inflating: Dataset/Dataset/test_set/forest/559672101517195076987621071193712n.jpg  \n",
            "  inflating: Dataset/Dataset/test_set/forest/78closer_exterior_view_of_northern_Rocky_Mountain_forest.jpg  \n",
            "  inflating: Dataset/Dataset/test_set/forest/79806645_landscape_of_tall_grass_field_green_mountain_forest.jpg  \n",
            "  inflating: Dataset/Dataset/test_set/forest/7_18_MedicineBowHikingFishing_KL_1319_4003.jpg  \n",
            "  inflating: Dataset/Dataset/test_set/forest/7ece9530_9cf1_11e9_bf3c_4fe6e6438142.jpg  \n",
            "  inflating: Dataset/Dataset/test_set/forest/852554.jpg  \n",
            "  inflating: Dataset/Dataset/test_set/forest/91ErlodmE5L.jpg  \n",
            "  inflating: Dataset/Dataset/test_set/forest/91sALlLjdLL.jpg  \n",
            "  inflating: Dataset/Dataset/test_set/forest/A003_C014_0724EC.0000000.jpg  \n",
            "  inflating: Dataset/Dataset/test_set/forest/Adirondack_Habitats_Mixed_Forest_Barnum_Brook_Trail_Paul_Smiths_VIC_23_May_2012_61.jpg  \n",
            "  inflating: Dataset/Dataset/test_set/forest/Adirondack_Habitats_Mixed_Forest_Jenkins_Mountain_Trail_Paul_Smiths_VIC_12_August_2013_71.jpg  \n",
            "  inflating: Dataset/Dataset/test_set/forest/Almaty_Mountains.jpg  \n",
            "  inflating: Dataset/Dataset/test_set/forest/DSCN8209(1)_250x333.JPG  \n",
            "  inflating: Dataset/Dataset/test_set/forest/DSC_0072_Forest.jpg  \n",
            "  inflating: Dataset/Dataset/test_set/forest/Deciduous_forest.jpg  \n",
            "  inflating: Dataset/Dataset/test_set/forest/Dupont_Forest_Triple_Falls_Rob_Travis_2_1.jpg  \n",
            "  inflating: Dataset/Dataset/test_set/forest/Fall_Trees_Alaskan_Adventure_by_John_Simeone.jpg  \n",
            "  inflating: Dataset/Dataset/test_set/forest/Fallen_e1499694482182.jpg  \n",
            "  inflating: Dataset/Dataset/test_set/forest/_101542074_gettyimages_956391468.jpg  \n",
            "  inflating: Dataset/Dataset/test_set/forest/a.jpg  \n",
            "  inflating: Dataset/Dataset/test_set/forest/acadia_np_622419_High_Res.jpg  \n",
            "  inflating: Dataset/Dataset/test_set/forest/altai_regio_pine_forest_1550x804.jpg  \n",
            "  inflating: Dataset/Dataset/test_set/forest/amazing_green_trees_in_dense_mountain_forest_nature_landscape_in_4k_aerial_view_b7oqfwutg_thumbnail_.png  \n",
            "  inflating: Dataset/Dataset/test_set/forest/aokigaharaforest_1_star.jpg  \n",
            "  inflating: Dataset/Dataset/test_set/forest/appalachian_mtns_forest_usda_srs.jpg  \n",
            "  inflating: Dataset/Dataset/test_set/forest/austria_mountain_forest_landscape_wallpaper_1920x1200.jpg  \n",
            "  inflating: Dataset/Dataset/test_set/forest/bavarian_forest_3385966_1280_1.jpg  \n",
            "  inflating: Dataset/Dataset/test_set/forest/beautiful_green_forest_range_images_picture_photos_wallpaper_download.jpg  \n",
            "  inflating: Dataset/Dataset/test_set/forest/beautiful_morning_mountain_forest_scenery_free_stock_photos_picjumbo_DSC02176.jpg  \n",
            "  inflating: Dataset/Dataset/test_set/forest/beautiful_mountain_forest_wallpaper_1920x1200.jpg  \n",
            "  inflating: Dataset/Dataset/test_set/forest/beech_oak_forest_560.jpg  \n",
            "  inflating: Dataset/Dataset/test_set/forest/britishforest_696483208.jpg  \n",
            "  inflating: Dataset/Dataset/test_set/forest/canva_waterfalls_in_the_mountain_forest__MADR_l3e0W4.jpg  \n",
            "  inflating: Dataset/Dataset/test_set/forest/ce8b73d56bd242eb1f2369fe856f1c63_700.jpg  \n",
            "  inflating: Dataset/Dataset/test_set/forest/cold_daylight_environment_1423600_640x427.jpg  \n",
            "  inflating: Dataset/Dataset/test_set/forest/easternArc.jpg  \n",
            "  inflating: Dataset/Dataset/test_set/forest/em_tiger_mountain_570x284_nc.jpg  \n",
            "  inflating: Dataset/Dataset/test_set/forest/europeslostf.jpg  \n",
            "  inflating: Dataset/Dataset/test_set/forest/fanas_gregorschmucki_2016_28_1_2600x1733.jpg  \n",
            "  inflating: Dataset/Dataset/test_set/forest/fantastic_dark_landscape_of_mountain_forest_in_clouds_fog_or_mist_picture_id688948674.jpg  \n",
            "  inflating: Dataset/Dataset/test_set/forest/fb26e4420f3ae3b12788fffdea0fb132_full.jpg  \n",
            "  inflating: Dataset/Dataset/test_set/forest/file_20180627_112634_8tdgn4.jpg  \n",
            "  inflating: Dataset/Dataset/test_set/with fire/180802_CarrFire_010_large_700x467.jpg  \n",
            "  inflating: Dataset/Dataset/test_set/with fire/19464620_401.jpg  \n",
            "  inflating: Dataset/Dataset/test_set/with fire/599857.jpg  \n",
            "  inflating: Dataset/Dataset/test_set/with fire/Bandipur_fires_2019.jpg  \n",
            "  inflating: Dataset/Dataset/test_set/with fire/FORESTFIRE (1).jpg  \n",
            "  inflating: Dataset/Dataset/test_set/with fire/Fire_2_696x392.jpg  \n",
            "  inflating: Dataset/Dataset/test_set/with fire/Forest_Fire (3).jpg  \n",
            "  inflating: Dataset/Dataset/test_set/with fire/Forest_Fire (4).jpg  \n",
            "  inflating: Dataset/Dataset/test_set/with fire/Forest_fire_MNRF_esize_IMG_6743.jpg  \n",
            "  inflating: Dataset/Dataset/test_set/with fire/GettyImages_482867948.0.jpg  \n",
            "  inflating: Dataset/Dataset/test_set/with fire/GettyImages_862092472_1160x773.jpg  \n",
            "  inflating: Dataset/Dataset/test_set/with fire/How_to_Protect_Your_Home_From_Forest_Fire_1024x588.jpg  \n",
            "  inflating: Dataset/Dataset/test_set/with fire/RED7_May29_1986.jpg  \n",
            "  inflating: Dataset/Dataset/test_set/with fire/The_Rim_Fire_in_the_Stanislaus_National_Forest_near_in_California_began_on_Aug._17__2013_0004.jpg  \n",
            "  inflating: Dataset/Dataset/test_set/with fire/Untitled_design_161_866x487.jpg  \n",
            "  inflating: Dataset/Dataset/test_set/with fire/Uttarakhand_forest_fire.jpeg  \n",
            "  inflating: Dataset/Dataset/test_set/with fire/Washington_DNR_Chiwaukum_WildFires_2014_2015_WA_DNR_cropped.jpg  \n",
            "  inflating: Dataset/Dataset/test_set/with fire/Wild_fires.jpg  \n",
            "  inflating: Dataset/Dataset/test_set/with fire/X80IR0GYSsG6RaiLcsXX.jpg  \n",
            "  inflating: Dataset/Dataset/test_set/with fire/b2683a16be44f230a90f50bb944315e994b43042e43df798bb4feaf27e0f8bc8.jpg  \n",
            "  inflating: Dataset/Dataset/test_set/with fire/climate_change_forest_fire.jpeg  \n",
            "  inflating: Dataset/Dataset/test_set/with fire/cumming_forest_fires.jpg  \n",
            "  inflating: Dataset/Dataset/test_set/with fire/deerfire_high_res_edit.jpg  \n",
            "  inflating: Dataset/Dataset/test_set/with fire/defense_large.jpg  \n",
            "  inflating: Dataset/Dataset/test_set/with fire/f90_fire_1168x657.jpg  \n",
            "  inflating: Dataset/Dataset/test_set/with fire/file_20190308_155532_1nvts27.jpg  \n",
            "  inflating: Dataset/Dataset/test_set/with fire/forest_fire_0.jpg  \n",
            "  inflating: Dataset/Dataset/test_set/with fire/forest_fire_2268729_1280.jpg  \n",
            "  inflating: Dataset/Dataset/test_set/with fire/forest_fire_at_bandipur_tiger_reserve_04f0dd5e_3919_11e9_9798_f85edb62de22.jpg  \n",
            "  inflating: Dataset/Dataset/test_set/with fire/forestfire.jpg  \n",
            "  inflating: Dataset/Dataset/test_set/with fire/forestfire_kApH__621x414_LiveMint.jpg  \n",
            "  inflating: Dataset/Dataset/test_set/with fire/growing_risk_future_wildfires_adobestock_199370851.jpeg  \n",
            "  inflating: Dataset/Dataset/test_set/with fire/header_hypermaritime_fire.jpg  \n",
            "  inflating: Dataset/Dataset/test_set/with fire/horseshoe_bay_fire.jpg  \n",
            "  inflating: Dataset/Dataset/test_set/with fire/image.jpg  \n",
            "  inflating: Dataset/Dataset/test_set/with fire/in_forestfire1_(1).jpg  \n",
            "  inflating: Dataset/Dataset/test_set/with fire/in_forestfires_shutter.jpg  \n",
            "  inflating: Dataset/Dataset/test_set/with fire/in_forestfiress_(1).jpg  \n",
            "  inflating: Dataset/Dataset/test_set/with fire/korea_forest_fire_4.jpg  \n",
            "  inflating: Dataset/Dataset/test_set/with fire/louisiana_forest_fire.jpg  \n",
            "  inflating: Dataset/Dataset/test_set/with fire/maxresdefault.jpg  \n",
            "  inflating: Dataset/Dataset/test_set/with fire/photo_1555842027_660d9d8df55b.jpg  \n",
            "  inflating: Dataset/Dataset/test_set/with fire/ring_of_fire_bailey_colorado_rocky_mountain_forest_wildfire_picture_id157384116.jpg  \n",
            "  inflating: Dataset/Dataset/test_set/with fire/rsz_1fire_pix_accumulation_640_1_2.jpg  \n",
            "  inflating: Dataset/Dataset/test_set/with fire/shutterstock_48032821.jpg  \n",
            "  inflating: Dataset/Dataset/test_set/with fire/shutterstock_710588224.jpg  \n",
            "  inflating: Dataset/Dataset/test_set/with fire/skynews_ashdown_forest_fire_4653702.jpg  \n",
            "  inflating: Dataset/Dataset/test_set/with fire/uttarakhand_forest_fire_750x500.jpg  \n",
            "  inflating: Dataset/Dataset/test_set/with fire/wildfire_header_image_1024x1024.jpg  \n",
            "  inflating: Dataset/Dataset/train_set/forest/with_fire (1).gif  \n",
            "  inflating: Dataset/Dataset/train_set/forest/with_fire (1).jpeg  \n",
            "  inflating: Dataset/Dataset/train_set/forest/with_fire (1).jpg  \n",
            "  inflating: Dataset/Dataset/train_set/forest/with_fire (1).png  \n",
            "  inflating: Dataset/Dataset/train_set/forest/with_fire (10).jpeg  \n",
            "  inflating: Dataset/Dataset/train_set/forest/with_fire (10).jpg  \n",
            "  inflating: Dataset/Dataset/train_set/forest/with_fire (100).jpg  \n",
            "  inflating: Dataset/Dataset/train_set/forest/with_fire (101).jpg  \n",
            "  inflating: Dataset/Dataset/train_set/forest/with_fire (102).jpg  \n",
            "  inflating: Dataset/Dataset/train_set/forest/with_fire (103).jpg  \n",
            "  inflating: Dataset/Dataset/train_set/forest/with_fire (104).jpg  \n",
            "  inflating: Dataset/Dataset/train_set/forest/with_fire (105).jpg  \n",
            "  inflating: Dataset/Dataset/train_set/forest/with_fire (106).jpg  \n",
            "  inflating: Dataset/Dataset/train_set/forest/with_fire (107).jpg  \n",
            "  inflating: Dataset/Dataset/train_set/forest/with_fire (108).jpg  \n",
            "  inflating: Dataset/Dataset/train_set/forest/with_fire (109).jpg  \n",
            "  inflating: Dataset/Dataset/train_set/forest/with_fire (11).jpg  \n",
            "  inflating: Dataset/Dataset/train_set/forest/with_fire (110).jpg  \n",
            "  inflating: Dataset/Dataset/train_set/forest/with_fire (111).jpg  \n",
            "  inflating: Dataset/Dataset/train_set/forest/with_fire (112).jpg  \n",
            "  inflating: Dataset/Dataset/train_set/forest/with_fire (113).jpg  \n",
            "  inflating: Dataset/Dataset/train_set/forest/with_fire (114).jpg  \n",
            "  inflating: Dataset/Dataset/train_set/forest/with_fire (115).jpg  \n",
            "  inflating: Dataset/Dataset/train_set/forest/with_fire (116).jpg  \n",
            "  inflating: Dataset/Dataset/train_set/forest/with_fire (117).jpg  \n",
            "  inflating: Dataset/Dataset/train_set/forest/with_fire (118).jpg  \n",
            "  inflating: Dataset/Dataset/train_set/forest/with_fire (119).jpg  \n",
            "  inflating: Dataset/Dataset/train_set/forest/with_fire (12).jpg  \n",
            "  inflating: Dataset/Dataset/train_set/forest/with_fire (120).jpg  \n",
            "  inflating: Dataset/Dataset/train_set/forest/with_fire (121).jpg  \n",
            "  inflating: Dataset/Dataset/train_set/forest/with_fire (122).jpg  \n",
            "  inflating: Dataset/Dataset/train_set/forest/with_fire (123).jpg  \n",
            "  inflating: Dataset/Dataset/train_set/forest/with_fire (124).jpg  \n",
            "  inflating: Dataset/Dataset/train_set/forest/with_fire (125).jpg  \n",
            "  inflating: Dataset/Dataset/train_set/forest/with_fire (126).jpg  \n",
            "  inflating: Dataset/Dataset/train_set/forest/with_fire (127).jpg  \n",
            "  inflating: Dataset/Dataset/train_set/forest/with_fire (128).jpg  \n",
            "  inflating: Dataset/Dataset/train_set/forest/with_fire (129).jpg  \n",
            "  inflating: Dataset/Dataset/train_set/forest/with_fire (13).jpg  \n",
            "  inflating: Dataset/Dataset/train_set/forest/with_fire (130).jpg  \n",
            "  inflating: Dataset/Dataset/train_set/forest/with_fire (131).jpg  \n",
            "  inflating: Dataset/Dataset/train_set/forest/with_fire (132).jpg  \n",
            "  inflating: Dataset/Dataset/train_set/forest/with_fire (133).jpg  \n",
            "  inflating: Dataset/Dataset/train_set/forest/with_fire (134).jpg  \n",
            "  inflating: Dataset/Dataset/train_set/forest/with_fire (135).jpg  \n",
            "  inflating: Dataset/Dataset/train_set/forest/with_fire (136).jpg  \n",
            "  inflating: Dataset/Dataset/train_set/forest/with_fire (137).jpg  \n",
            "  inflating: Dataset/Dataset/train_set/forest/with_fire (138).jpg  \n",
            "  inflating: Dataset/Dataset/train_set/forest/with_fire (139).jpg  \n",
            "  inflating: Dataset/Dataset/train_set/forest/with_fire (14).jpg  \n",
            "  inflating: Dataset/Dataset/train_set/forest/with_fire (140).jpg  \n",
            "  inflating: Dataset/Dataset/train_set/forest/with_fire (141).jpg  \n",
            "  inflating: Dataset/Dataset/train_set/forest/with_fire (142).jpg  \n",
            "  inflating: Dataset/Dataset/train_set/forest/with_fire (143).jpg  \n",
            "  inflating: Dataset/Dataset/train_set/forest/with_fire (144).jpg  \n",
            "  inflating: Dataset/Dataset/train_set/forest/with_fire (145).jpg  \n",
            "  inflating: Dataset/Dataset/train_set/forest/with_fire (146).jpg  \n",
            "  inflating: Dataset/Dataset/train_set/forest/with_fire (147).JPG  \n",
            "  inflating: Dataset/Dataset/train_set/forest/with_fire (148).jpg  \n",
            "  inflating: Dataset/Dataset/train_set/forest/with_fire (149).jpg  \n",
            "  inflating: Dataset/Dataset/train_set/forest/with_fire (15).jpg  \n",
            "  inflating: Dataset/Dataset/train_set/forest/with_fire (150).jpg  \n",
            "  inflating: Dataset/Dataset/train_set/forest/with_fire (151).jpg  \n",
            "  inflating: Dataset/Dataset/train_set/forest/with_fire (152).jpg  \n",
            "  inflating: Dataset/Dataset/train_set/forest/with_fire (153).jpg  \n",
            "  inflating: Dataset/Dataset/train_set/forest/with_fire (154).jpg  \n",
            "  inflating: Dataset/Dataset/train_set/forest/with_fire (155).jpg  \n",
            "  inflating: Dataset/Dataset/train_set/forest/with_fire (156).jpg  \n",
            "  inflating: Dataset/Dataset/train_set/forest/with_fire (157).jpg  \n",
            "  inflating: Dataset/Dataset/train_set/forest/with_fire (158).jpg  \n",
            "  inflating: Dataset/Dataset/train_set/forest/with_fire (159).jpg  \n",
            "  inflating: Dataset/Dataset/train_set/forest/with_fire (16).jpg  \n",
            "  inflating: Dataset/Dataset/train_set/forest/with_fire (160).JPG  \n",
            "  inflating: Dataset/Dataset/train_set/forest/with_fire (161).jpg  \n",
            "  inflating: Dataset/Dataset/train_set/forest/with_fire (162).jpg  \n",
            "  inflating: Dataset/Dataset/train_set/forest/with_fire (163).jpg  \n",
            "  inflating: Dataset/Dataset/train_set/forest/with_fire (164).jpg  \n",
            "  inflating: Dataset/Dataset/train_set/forest/with_fire (165).JPG  \n",
            "  inflating: Dataset/Dataset/train_set/forest/with_fire (166).jpg  \n",
            "  inflating: Dataset/Dataset/train_set/forest/with_fire (167).jpg  \n",
            "  inflating: Dataset/Dataset/train_set/forest/with_fire (168).jpg  \n",
            "  inflating: Dataset/Dataset/train_set/forest/with_fire (169).jpg  \n",
            "  inflating: Dataset/Dataset/train_set/forest/with_fire (17).jpg  \n",
            "  inflating: Dataset/Dataset/train_set/forest/with_fire (170).jpg  \n",
            "  inflating: Dataset/Dataset/train_set/forest/with_fire (171).jpg  \n",
            "  inflating: Dataset/Dataset/train_set/forest/with_fire (172).jpg  \n",
            "  inflating: Dataset/Dataset/train_set/forest/with_fire (173).jpg  \n",
            "  inflating: Dataset/Dataset/train_set/forest/with_fire (174).jpg  \n",
            "  inflating: Dataset/Dataset/train_set/forest/with_fire (175).jpg  \n",
            "  inflating: Dataset/Dataset/train_set/forest/with_fire (176).jpg  \n",
            "  inflating: Dataset/Dataset/train_set/forest/with_fire (177).jpg  \n",
            "  inflating: Dataset/Dataset/train_set/forest/with_fire (178).jpg  \n",
            "  inflating: Dataset/Dataset/train_set/forest/with_fire (179).jpg  \n",
            "  inflating: Dataset/Dataset/train_set/forest/with_fire (18).jpg  \n",
            "  inflating: Dataset/Dataset/train_set/forest/with_fire (180).jpg  \n",
            "  inflating: Dataset/Dataset/train_set/forest/with_fire (181).jpg  \n",
            "  inflating: Dataset/Dataset/train_set/forest/with_fire (182).jpg  \n",
            "  inflating: Dataset/Dataset/train_set/forest/with_fire (183).jpg  \n",
            "  inflating: Dataset/Dataset/train_set/forest/with_fire (184).jpg  \n",
            "  inflating: Dataset/Dataset/train_set/forest/with_fire (185).jpg  \n",
            "  inflating: Dataset/Dataset/train_set/forest/with_fire (186).jpg  \n",
            "  inflating: Dataset/Dataset/train_set/forest/with_fire (187).jpg  \n",
            "  inflating: Dataset/Dataset/train_set/forest/with_fire (188).jpg  \n",
            "  inflating: Dataset/Dataset/train_set/forest/with_fire (189).jpg  \n",
            "  inflating: Dataset/Dataset/train_set/forest/with_fire (19).jpg  \n",
            "  inflating: Dataset/Dataset/train_set/forest/with_fire (190).jpg  \n",
            "  inflating: Dataset/Dataset/train_set/forest/with_fire (191).jpg  \n",
            "  inflating: Dataset/Dataset/train_set/forest/with_fire (192).jpg  \n",
            "  inflating: Dataset/Dataset/train_set/forest/with_fire (193).jpg  \n",
            "  inflating: Dataset/Dataset/train_set/forest/with_fire (194).jpg  \n",
            "  inflating: Dataset/Dataset/train_set/forest/with_fire (195).jpg  \n",
            "  inflating: Dataset/Dataset/train_set/forest/with_fire (196).jpg  \n",
            "  inflating: Dataset/Dataset/train_set/forest/with_fire (197).jpg  \n",
            "  inflating: Dataset/Dataset/train_set/forest/with_fire (198).jpg  \n",
            "  inflating: Dataset/Dataset/train_set/forest/with_fire (199).jpg  \n",
            "  inflating: Dataset/Dataset/train_set/forest/with_fire (2).jpeg  \n",
            "  inflating: Dataset/Dataset/train_set/forest/with_fire (2).jpg  \n",
            "  inflating: Dataset/Dataset/train_set/forest/with_fire (2).png  \n",
            "  inflating: Dataset/Dataset/train_set/forest/with_fire (20).jpg  \n",
            "  inflating: Dataset/Dataset/train_set/forest/with_fire (200).jpg  \n",
            "  inflating: Dataset/Dataset/train_set/forest/with_fire (201).jpg  \n",
            "  inflating: Dataset/Dataset/train_set/forest/with_fire (202).jpg  \n",
            "  inflating: Dataset/Dataset/train_set/forest/with_fire (203).jpg  \n",
            "  inflating: Dataset/Dataset/train_set/forest/with_fire (204).jpg  \n",
            "  inflating: Dataset/Dataset/train_set/forest/with_fire (205).jpg  \n",
            "  inflating: Dataset/Dataset/train_set/forest/with_fire (206).jpg  \n",
            "  inflating: Dataset/Dataset/train_set/forest/with_fire (207).jpg  \n",
            "  inflating: Dataset/Dataset/train_set/forest/with_fire (208).jpg  \n",
            "  inflating: Dataset/Dataset/train_set/forest/with_fire (209).jpg  \n",
            "  inflating: Dataset/Dataset/train_set/forest/with_fire (21).jpg  \n",
            "  inflating: Dataset/Dataset/train_set/forest/with_fire (210).jpg  \n",
            "  inflating: Dataset/Dataset/train_set/forest/with_fire (211).jpg  \n",
            "  inflating: Dataset/Dataset/train_set/forest/with_fire (212).jpg  \n",
            "  inflating: Dataset/Dataset/train_set/forest/with_fire (213).jpg  \n",
            "  inflating: Dataset/Dataset/train_set/forest/with_fire (214).jpg  \n",
            "  inflating: Dataset/Dataset/train_set/forest/with_fire (215).jpg  \n",
            "  inflating: Dataset/Dataset/train_set/forest/with_fire (216).jpg  \n",
            "  inflating: Dataset/Dataset/train_set/forest/with_fire (217).jpg  \n",
            "  inflating: Dataset/Dataset/train_set/forest/with_fire (218).jpg  \n",
            "  inflating: Dataset/Dataset/train_set/forest/with_fire (219).jpg  \n",
            "  inflating: Dataset/Dataset/train_set/forest/with_fire (22).jpg  \n",
            "  inflating: Dataset/Dataset/train_set/forest/with_fire (220).JPG  \n",
            "  inflating: Dataset/Dataset/train_set/forest/with_fire (221).jpg  \n",
            "  inflating: Dataset/Dataset/train_set/forest/with_fire (222).jpg  \n",
            "  inflating: Dataset/Dataset/train_set/forest/with_fire (223).jpg  \n",
            "  inflating: Dataset/Dataset/train_set/forest/with_fire (224).jpg  \n",
            "  inflating: Dataset/Dataset/train_set/forest/with_fire (225).jpg  \n",
            "  inflating: Dataset/Dataset/train_set/forest/with_fire (226).jpg  \n",
            "  inflating: Dataset/Dataset/train_set/forest/with_fire (227).jpg  \n",
            "  inflating: Dataset/Dataset/train_set/forest/with_fire (228).jpg  \n",
            "  inflating: Dataset/Dataset/train_set/forest/with_fire (229).jpg  \n",
            "  inflating: Dataset/Dataset/train_set/forest/with_fire (23).jpg  \n",
            "  inflating: Dataset/Dataset/train_set/forest/with_fire (230).jpg  \n",
            "  inflating: Dataset/Dataset/train_set/forest/with_fire (231).jpg  \n",
            "  inflating: Dataset/Dataset/train_set/forest/with_fire (232).jpg  \n",
            "  inflating: Dataset/Dataset/train_set/forest/with_fire (233).jpg  \n",
            "  inflating: Dataset/Dataset/train_set/forest/with_fire (234).jpg  \n",
            "  inflating: Dataset/Dataset/train_set/forest/with_fire (235).jpg  \n",
            "  inflating: Dataset/Dataset/train_set/forest/with_fire (236).jpg  \n",
            "  inflating: Dataset/Dataset/train_set/forest/with_fire (237).jpg  \n",
            "  inflating: Dataset/Dataset/train_set/forest/with_fire (238).jpg  \n",
            "  inflating: Dataset/Dataset/train_set/forest/with_fire (239).jpg  \n",
            "  inflating: Dataset/Dataset/train_set/forest/with_fire (24).jpg  \n",
            "  inflating: Dataset/Dataset/train_set/forest/with_fire (240).jpg  \n",
            "  inflating: Dataset/Dataset/train_set/forest/with_fire (241).jpg  \n",
            "  inflating: Dataset/Dataset/train_set/forest/with_fire (242).jpg  \n",
            "  inflating: Dataset/Dataset/train_set/forest/with_fire (243).jpg  \n",
            "  inflating: Dataset/Dataset/train_set/forest/with_fire (244).jpg  \n",
            "  inflating: Dataset/Dataset/train_set/forest/with_fire (245).jpg  \n",
            "  inflating: Dataset/Dataset/train_set/forest/with_fire (246).jpg  \n",
            "  inflating: Dataset/Dataset/train_set/forest/with_fire (247).jpg  \n",
            "  inflating: Dataset/Dataset/train_set/forest/with_fire (248).jpg  \n",
            "  inflating: Dataset/Dataset/train_set/forest/with_fire (249).jpg  \n",
            "  inflating: Dataset/Dataset/train_set/forest/with_fire (25).jpg  \n",
            "  inflating: Dataset/Dataset/train_set/forest/with_fire (250).jpg  \n",
            "  inflating: Dataset/Dataset/train_set/forest/with_fire (251).jpg  \n",
            "  inflating: Dataset/Dataset/train_set/forest/with_fire (252).jpg  \n",
            "  inflating: Dataset/Dataset/train_set/forest/with_fire (253).jpg  \n",
            "  inflating: Dataset/Dataset/train_set/forest/with_fire (254).jpg  \n",
            "  inflating: Dataset/Dataset/train_set/forest/with_fire (255).jpg  \n",
            "  inflating: Dataset/Dataset/train_set/forest/with_fire (256).jpg  \n",
            "  inflating: Dataset/Dataset/train_set/forest/with_fire (257).jpg  \n",
            "  inflating: Dataset/Dataset/train_set/forest/with_fire (258).jpg  \n",
            "  inflating: Dataset/Dataset/train_set/forest/with_fire (259).jpg  \n",
            "  inflating: Dataset/Dataset/train_set/forest/with_fire (26).jpg  \n",
            "  inflating: Dataset/Dataset/train_set/forest/with_fire (260).jpg  \n",
            "  inflating: Dataset/Dataset/train_set/forest/with_fire (261).jpg  \n",
            "  inflating: Dataset/Dataset/train_set/forest/with_fire (27).jpg  \n",
            "  inflating: Dataset/Dataset/train_set/forest/with_fire (28).jpg  \n",
            "  inflating: Dataset/Dataset/train_set/forest/with_fire (29).jpg  \n",
            "  inflating: Dataset/Dataset/train_set/forest/with_fire (3).jpeg  \n",
            "  inflating: Dataset/Dataset/train_set/forest/with_fire (3).jpg  \n",
            "  inflating: Dataset/Dataset/train_set/forest/with_fire (3).png  \n",
            "  inflating: Dataset/Dataset/train_set/forest/with_fire (30).jpg  \n",
            "  inflating: Dataset/Dataset/train_set/forest/with_fire (31).jpg  \n",
            "  inflating: Dataset/Dataset/train_set/forest/with_fire (32).jpg  \n",
            "  inflating: Dataset/Dataset/train_set/forest/with_fire (33).jpg  \n",
            "  inflating: Dataset/Dataset/train_set/forest/with_fire (34).jpg  \n",
            "  inflating: Dataset/Dataset/train_set/forest/with_fire (35).jpg  \n",
            "  inflating: Dataset/Dataset/train_set/forest/with_fire (36).jpg  \n",
            "  inflating: Dataset/Dataset/train_set/forest/with_fire (37).jpg  \n",
            "  inflating: Dataset/Dataset/train_set/forest/with_fire (38).jpg  \n",
            "  inflating: Dataset/Dataset/train_set/forest/with_fire (39).jpg  \n",
            "  inflating: Dataset/Dataset/train_set/forest/with_fire (4).jpeg  \n",
            "  inflating: Dataset/Dataset/train_set/forest/with_fire (4).jpg  \n",
            "  inflating: Dataset/Dataset/train_set/forest/with_fire (4).png  \n",
            "  inflating: Dataset/Dataset/train_set/forest/with_fire (40).jpg  \n",
            "  inflating: Dataset/Dataset/train_set/forest/with_fire (41).jpg  \n",
            "  inflating: Dataset/Dataset/train_set/forest/with_fire (42).jpg  \n",
            "  inflating: Dataset/Dataset/train_set/forest/with_fire (43).jpg  \n",
            "  inflating: Dataset/Dataset/train_set/forest/with_fire (44).jpg  \n",
            "  inflating: Dataset/Dataset/train_set/forest/with_fire (45).jpg  \n",
            "  inflating: Dataset/Dataset/train_set/forest/with_fire (46).jpg  \n",
            "  inflating: Dataset/Dataset/train_set/forest/with_fire (47).jpg  \n",
            "  inflating: Dataset/Dataset/train_set/forest/with_fire (48).jpg  \n",
            "  inflating: Dataset/Dataset/train_set/forest/with_fire (49).jpg  \n",
            "  inflating: Dataset/Dataset/train_set/forest/with_fire (5).jpeg  \n",
            "  inflating: Dataset/Dataset/train_set/forest/with_fire (5).jpg  \n",
            "  inflating: Dataset/Dataset/train_set/forest/with_fire (5).png  \n",
            "  inflating: Dataset/Dataset/train_set/forest/with_fire (50).jpg  \n",
            "  inflating: Dataset/Dataset/train_set/forest/with_fire (51).jpg  \n",
            "  inflating: Dataset/Dataset/train_set/forest/with_fire (52).jpg  \n",
            "  inflating: Dataset/Dataset/train_set/forest/with_fire (53).jpg  \n",
            "  inflating: Dataset/Dataset/train_set/forest/with_fire (54).jpg  \n",
            "  inflating: Dataset/Dataset/train_set/forest/with_fire (55).jpg  \n",
            "  inflating: Dataset/Dataset/train_set/forest/with_fire (56).jpg  \n",
            "  inflating: Dataset/Dataset/train_set/forest/with_fire (57).jpg  \n",
            "  inflating: Dataset/Dataset/train_set/forest/with_fire (58).jpg  \n",
            "  inflating: Dataset/Dataset/train_set/forest/with_fire (59).bmp  \n",
            "  inflating: Dataset/Dataset/train_set/forest/with_fire (59).jpg  \n",
            "  inflating: Dataset/Dataset/train_set/forest/with_fire (6).jpeg  \n",
            "  inflating: Dataset/Dataset/train_set/forest/with_fire (6).jpg  \n",
            "  inflating: Dataset/Dataset/train_set/forest/with_fire (6).png  \n",
            "  inflating: Dataset/Dataset/train_set/forest/with_fire (60).jpg  \n",
            "  inflating: Dataset/Dataset/train_set/forest/with_fire (61).jpg  \n",
            "  inflating: Dataset/Dataset/train_set/forest/with_fire (62).jpg  \n",
            "  inflating: Dataset/Dataset/train_set/forest/with_fire (63).jpg  \n",
            "  inflating: Dataset/Dataset/train_set/forest/with_fire (64).jpg  \n",
            "  inflating: Dataset/Dataset/train_set/forest/with_fire (65).jpg  \n",
            "  inflating: Dataset/Dataset/train_set/forest/with_fire (66).jpg  \n",
            "  inflating: Dataset/Dataset/train_set/forest/with_fire (67).jpg  \n",
            "  inflating: Dataset/Dataset/train_set/forest/with_fire (68).jpg  \n",
            "  inflating: Dataset/Dataset/train_set/forest/with_fire (69).jpg  \n",
            "  inflating: Dataset/Dataset/train_set/forest/with_fire (7).jpeg  \n",
            "  inflating: Dataset/Dataset/train_set/forest/with_fire (7).jpg  \n",
            "  inflating: Dataset/Dataset/train_set/forest/with_fire (7).png  \n",
            "  inflating: Dataset/Dataset/train_set/forest/with_fire (70).jpg  \n",
            "  inflating: Dataset/Dataset/train_set/forest/with_fire (71).jpg  \n",
            "  inflating: Dataset/Dataset/train_set/forest/with_fire (72).jpg  \n",
            "  inflating: Dataset/Dataset/train_set/forest/with_fire (73).jpg  \n",
            "  inflating: Dataset/Dataset/train_set/forest/with_fire (74).jpg  \n",
            "  inflating: Dataset/Dataset/train_set/forest/with_fire (75).jpg  \n",
            "  inflating: Dataset/Dataset/train_set/forest/with_fire (76).jpg  \n",
            "  inflating: Dataset/Dataset/train_set/forest/with_fire (77).jpg  \n",
            "  inflating: Dataset/Dataset/train_set/forest/with_fire (78).jpg  \n",
            "  inflating: Dataset/Dataset/train_set/forest/with_fire (79).jpg  \n",
            "  inflating: Dataset/Dataset/train_set/forest/with_fire (8).jpeg  \n",
            "  inflating: Dataset/Dataset/train_set/forest/with_fire (8).jpg  \n",
            "  inflating: Dataset/Dataset/train_set/forest/with_fire (8).png  \n",
            "  inflating: Dataset/Dataset/train_set/forest/with_fire (80).jpg  \n",
            "  inflating: Dataset/Dataset/train_set/forest/with_fire (81).jpg  \n",
            "  inflating: Dataset/Dataset/train_set/forest/with_fire (82).jpg  \n",
            "  inflating: Dataset/Dataset/train_set/forest/with_fire (83).jpg  \n",
            "  inflating: Dataset/Dataset/train_set/forest/with_fire (84).jpg  \n",
            "  inflating: Dataset/Dataset/train_set/forest/with_fire (85).jpg  \n",
            "  inflating: Dataset/Dataset/train_set/forest/with_fire (86).jpg  \n",
            "  inflating: Dataset/Dataset/train_set/forest/with_fire (87).jpg  \n",
            "  inflating: Dataset/Dataset/train_set/forest/with_fire (88).jpg  \n",
            "  inflating: Dataset/Dataset/train_set/forest/with_fire (89).jpg  \n",
            "  inflating: Dataset/Dataset/train_set/forest/with_fire (9).jpeg  \n",
            "  inflating: Dataset/Dataset/train_set/forest/with_fire (9).jpg  \n",
            "  inflating: Dataset/Dataset/train_set/forest/with_fire (9).png  \n",
            "  inflating: Dataset/Dataset/train_set/forest/with_fire (90).jpg  \n",
            "  inflating: Dataset/Dataset/train_set/forest/with_fire (91).JPG  \n",
            "  inflating: Dataset/Dataset/train_set/forest/with_fire (92).jpg  \n",
            "  inflating: Dataset/Dataset/train_set/forest/with_fire (93).jpg  \n",
            "  inflating: Dataset/Dataset/train_set/forest/with_fire (94).jpg  \n",
            "  inflating: Dataset/Dataset/train_set/forest/with_fire (95).jpg  \n",
            "  inflating: Dataset/Dataset/train_set/forest/with_fire (96).jpg  \n",
            "  inflating: Dataset/Dataset/train_set/forest/with_fire (97).jpg  \n",
            "  inflating: Dataset/Dataset/train_set/forest/with_fire (98).jpg  \n",
            "  inflating: Dataset/Dataset/train_set/forest/with_fire (99).jpg  \n",
            "  inflating: Dataset/Dataset/train_set/with fire/with fire (1).png  \n",
            "  inflating: Dataset/Dataset/train_set/with fire/with fire (10).jpg  \n",
            "  inflating: Dataset/Dataset/train_set/with fire/with fire (100).jpg  \n",
            "  inflating: Dataset/Dataset/train_set/with fire/with fire (101).jpg  \n",
            "  inflating: Dataset/Dataset/train_set/with fire/with fire (102).jpg  \n",
            "  inflating: Dataset/Dataset/train_set/with fire/with fire (103).jpg  \n",
            "  inflating: Dataset/Dataset/train_set/with fire/with fire (104).jpg  \n",
            "  inflating: Dataset/Dataset/train_set/with fire/with fire (105).jpg  \n",
            "  inflating: Dataset/Dataset/train_set/with fire/with fire (106).jpg  \n",
            "  inflating: Dataset/Dataset/train_set/with fire/with fire (107).jpg  \n",
            "  inflating: Dataset/Dataset/train_set/with fire/with fire (108).jpg  \n",
            "  inflating: Dataset/Dataset/train_set/with fire/with fire (109).jpg  \n",
            "  inflating: Dataset/Dataset/train_set/with fire/with fire (11).jpg  \n",
            "  inflating: Dataset/Dataset/train_set/with fire/with fire (110).jpg  \n",
            "  inflating: Dataset/Dataset/train_set/with fire/with fire (111).jpg  \n",
            "  inflating: Dataset/Dataset/train_set/with fire/with fire (112).jpg  \n",
            "  inflating: Dataset/Dataset/train_set/with fire/with fire (113).jpg  \n",
            "  inflating: Dataset/Dataset/train_set/with fire/with fire (114).jpg  \n",
            "  inflating: Dataset/Dataset/train_set/with fire/with fire (115).jpg  \n",
            "  inflating: Dataset/Dataset/train_set/with fire/with fire (116).jpg  \n",
            "  inflating: Dataset/Dataset/train_set/with fire/with fire (117).jpg  \n",
            "  inflating: Dataset/Dataset/train_set/with fire/with fire (118).jpg  \n",
            "  inflating: Dataset/Dataset/train_set/with fire/with fire (119).jpg  \n",
            "  inflating: Dataset/Dataset/train_set/with fire/with fire (12).jpg  \n",
            "  inflating: Dataset/Dataset/train_set/with fire/with fire (120).jpg  \n",
            "  inflating: Dataset/Dataset/train_set/with fire/with fire (121).jpg  \n",
            "  inflating: Dataset/Dataset/train_set/with fire/with fire (122).jpg  \n",
            "  inflating: Dataset/Dataset/train_set/with fire/with fire (123).jpg  \n",
            "  inflating: Dataset/Dataset/train_set/with fire/with fire (124).jpg  \n",
            "  inflating: Dataset/Dataset/train_set/with fire/with fire (125).jpg  \n",
            "  inflating: Dataset/Dataset/train_set/with fire/with fire (126).jpg  \n",
            "  inflating: Dataset/Dataset/train_set/with fire/with fire (127).jpg  \n",
            "  inflating: Dataset/Dataset/train_set/with fire/with fire (128).jpg  \n",
            "  inflating: Dataset/Dataset/train_set/with fire/with fire (129).jpg  \n",
            "  inflating: Dataset/Dataset/train_set/with fire/with fire (13).jpg  \n",
            "  inflating: Dataset/Dataset/train_set/with fire/with fire (130).jpg  \n",
            "  inflating: Dataset/Dataset/train_set/with fire/with fire (131).jpg  \n",
            "  inflating: Dataset/Dataset/train_set/with fire/with fire (132).jpg  \n",
            "  inflating: Dataset/Dataset/train_set/with fire/with fire (133).jpg  \n",
            "  inflating: Dataset/Dataset/train_set/with fire/with fire (134).jpg  \n",
            "  inflating: Dataset/Dataset/train_set/with fire/with fire (135).jpg  \n",
            "  inflating: Dataset/Dataset/train_set/with fire/with fire (136).jpg  \n",
            "  inflating: Dataset/Dataset/train_set/with fire/with fire (137).jpg  \n",
            "  inflating: Dataset/Dataset/train_set/with fire/with fire (138).jpg  \n",
            "  inflating: Dataset/Dataset/train_set/with fire/with fire (139).jpg  \n",
            "  inflating: Dataset/Dataset/train_set/with fire/with fire (14).jpg  \n",
            "  inflating: Dataset/Dataset/train_set/with fire/with fire (140).jpg  \n",
            "  inflating: Dataset/Dataset/train_set/with fire/with fire (141).jpg  \n",
            "  inflating: Dataset/Dataset/train_set/with fire/with fire (142).jpg  \n",
            "  inflating: Dataset/Dataset/train_set/with fire/with fire (143).jpg  \n",
            "  inflating: Dataset/Dataset/train_set/with fire/with fire (144).jpg  \n",
            "  inflating: Dataset/Dataset/train_set/with fire/with fire (145).jpg  \n",
            "  inflating: Dataset/Dataset/train_set/with fire/with fire (146).jpg  \n",
            "  inflating: Dataset/Dataset/train_set/with fire/with fire (147).jpg  \n",
            "  inflating: Dataset/Dataset/train_set/with fire/with fire (148).jpg  \n",
            "  inflating: Dataset/Dataset/train_set/with fire/with fire (149).jpg  \n",
            "  inflating: Dataset/Dataset/train_set/with fire/with fire (15).jpg  \n",
            "  inflating: Dataset/Dataset/train_set/with fire/with fire (16).jpg  \n",
            "  inflating: Dataset/Dataset/train_set/with fire/with fire (17).jpg  \n",
            "  inflating: Dataset/Dataset/train_set/with fire/with fire (18).jpg  \n",
            "  inflating: Dataset/Dataset/train_set/with fire/with fire (19).jpg  \n",
            "  inflating: Dataset/Dataset/train_set/with fire/with fire (2).jpeg  \n",
            "  inflating: Dataset/Dataset/train_set/with fire/with fire (2).jpg  \n",
            "  inflating: Dataset/Dataset/train_set/with fire/with fire (2).png  \n",
            "  inflating: Dataset/Dataset/train_set/with fire/with fire (20).jpg  \n",
            "  inflating: Dataset/Dataset/train_set/with fire/with fire (21).jpg  \n",
            "  inflating: Dataset/Dataset/train_set/with fire/with fire (22).jpg  \n",
            "  inflating: Dataset/Dataset/train_set/with fire/with fire (23).jpg  \n",
            "  inflating: Dataset/Dataset/train_set/with fire/with fire (24).jpg  \n",
            "  inflating: Dataset/Dataset/train_set/with fire/with fire (25).jpg  \n",
            "  inflating: Dataset/Dataset/train_set/with fire/with fire (26).jpg  \n",
            "  inflating: Dataset/Dataset/train_set/with fire/with fire (27).jpg  \n",
            "  inflating: Dataset/Dataset/train_set/with fire/with fire (28).jpg  \n",
            "  inflating: Dataset/Dataset/train_set/with fire/with fire (29).jpg  \n",
            "  inflating: Dataset/Dataset/train_set/with fire/with fire (3).jpeg  \n",
            "  inflating: Dataset/Dataset/train_set/with fire/with fire (3).jpg  \n",
            "  inflating: Dataset/Dataset/train_set/with fire/with fire (3).png  \n",
            "  inflating: Dataset/Dataset/train_set/with fire/with fire (30).jpg  \n",
            "  inflating: Dataset/Dataset/train_set/with fire/with fire (31).jpg  \n",
            "  inflating: Dataset/Dataset/train_set/with fire/with fire (32).jpg  \n",
            "  inflating: Dataset/Dataset/train_set/with fire/with fire (33).jpg  \n",
            "  inflating: Dataset/Dataset/train_set/with fire/with fire (34).jpg  \n",
            "  inflating: Dataset/Dataset/train_set/with fire/with fire (35).jpg  \n",
            "  inflating: Dataset/Dataset/train_set/with fire/with fire (36).jpg  \n",
            "  inflating: Dataset/Dataset/train_set/with fire/with fire (37).jpg  \n",
            "  inflating: Dataset/Dataset/train_set/with fire/with fire (38).jpg  \n",
            "  inflating: Dataset/Dataset/train_set/with fire/with fire (39).jpg  \n",
            "  inflating: Dataset/Dataset/train_set/with fire/with fire (4).jpg  \n",
            "  inflating: Dataset/Dataset/train_set/with fire/with fire (4).png  \n",
            "  inflating: Dataset/Dataset/train_set/with fire/with fire (40).jpg  \n",
            "  inflating: Dataset/Dataset/train_set/with fire/with fire (41).jpg  \n",
            "  inflating: Dataset/Dataset/train_set/with fire/with fire (42).jpg  \n",
            "  inflating: Dataset/Dataset/train_set/with fire/with fire (43).jpg  \n",
            "  inflating: Dataset/Dataset/train_set/with fire/with fire (44).jpg  \n",
            "  inflating: Dataset/Dataset/train_set/with fire/with fire (45).jpg  \n",
            "  inflating: Dataset/Dataset/train_set/with fire/with fire (46).jpg  \n",
            "  inflating: Dataset/Dataset/train_set/with fire/with fire (47).jpg  \n",
            "  inflating: Dataset/Dataset/train_set/with fire/with fire (48).jpg  \n",
            "  inflating: Dataset/Dataset/train_set/with fire/with fire (49).jpg  \n",
            "  inflating: Dataset/Dataset/train_set/with fire/with fire (5).jpg  \n",
            "  inflating: Dataset/Dataset/train_set/with fire/with fire (50).jpg  \n",
            "  inflating: Dataset/Dataset/train_set/with fire/with fire (51).jpg  \n",
            "  inflating: Dataset/Dataset/train_set/with fire/with fire (52).jpg  \n",
            "  inflating: Dataset/Dataset/train_set/with fire/with fire (53).jpg  \n",
            "  inflating: Dataset/Dataset/train_set/with fire/with fire (54).jpg  \n",
            "  inflating: Dataset/Dataset/train_set/with fire/with fire (55).jpg  \n",
            "  inflating: Dataset/Dataset/train_set/with fire/with fire (56).jpg  \n",
            "  inflating: Dataset/Dataset/train_set/with fire/with fire (57).jpg  \n",
            "  inflating: Dataset/Dataset/train_set/with fire/with fire (58).jpg  \n",
            "  inflating: Dataset/Dataset/train_set/with fire/with fire (59).jpg  \n",
            "  inflating: Dataset/Dataset/train_set/with fire/with fire (6).jpg  \n",
            "  inflating: Dataset/Dataset/train_set/with fire/with fire (60).jpg  \n",
            "  inflating: Dataset/Dataset/train_set/with fire/with fire (61).jpg  \n",
            "  inflating: Dataset/Dataset/train_set/with fire/with fire (62).jpg  \n",
            "  inflating: Dataset/Dataset/train_set/with fire/with fire (63).jpg  \n",
            "  inflating: Dataset/Dataset/train_set/with fire/with fire (64).jpg  \n",
            "  inflating: Dataset/Dataset/train_set/with fire/with fire (65).jpg  \n",
            "  inflating: Dataset/Dataset/train_set/with fire/with fire (66).jpg  \n",
            "  inflating: Dataset/Dataset/train_set/with fire/with fire (67).jpg  \n",
            "  inflating: Dataset/Dataset/train_set/with fire/with fire (68).jpg  \n",
            "  inflating: Dataset/Dataset/train_set/with fire/with fire (69).jpg  \n",
            "  inflating: Dataset/Dataset/train_set/with fire/with fire (7).jpg  \n",
            "  inflating: Dataset/Dataset/train_set/with fire/with fire (70).jpg  \n",
            "  inflating: Dataset/Dataset/train_set/with fire/with fire (71).jpg  \n",
            "  inflating: Dataset/Dataset/train_set/with fire/with fire (72).jpg  \n",
            "  inflating: Dataset/Dataset/train_set/with fire/with fire (73).jpg  \n",
            "  inflating: Dataset/Dataset/train_set/with fire/with fire (74).jpg  \n",
            "  inflating: Dataset/Dataset/train_set/with fire/with fire (75).jpg  \n",
            "  inflating: Dataset/Dataset/train_set/with fire/with fire (76).jpg  \n",
            "  inflating: Dataset/Dataset/train_set/with fire/with fire (77).jpg  \n",
            "  inflating: Dataset/Dataset/train_set/with fire/with fire (78).jpg  \n",
            "  inflating: Dataset/Dataset/train_set/with fire/with fire (79).jpg  \n",
            "  inflating: Dataset/Dataset/train_set/with fire/with fire (8).jpg  \n",
            "  inflating: Dataset/Dataset/train_set/with fire/with fire (80).jpg  \n",
            "  inflating: Dataset/Dataset/train_set/with fire/with fire (81).jpg  \n",
            "  inflating: Dataset/Dataset/train_set/with fire/with fire (82).jpg  \n",
            "  inflating: Dataset/Dataset/train_set/with fire/with fire (83).jpg  \n",
            "  inflating: Dataset/Dataset/train_set/with fire/with fire (84).jpg  \n",
            "  inflating: Dataset/Dataset/train_set/with fire/with fire (85).jpg  \n",
            "  inflating: Dataset/Dataset/train_set/with fire/with fire (86).jpg  \n",
            "  inflating: Dataset/Dataset/train_set/with fire/with fire (87).jpg  \n",
            "  inflating: Dataset/Dataset/train_set/with fire/with fire (88).jpg  \n",
            "  inflating: Dataset/Dataset/train_set/with fire/with fire (89).jpg  \n",
            "  inflating: Dataset/Dataset/train_set/with fire/with fire (9).jpg  \n",
            "  inflating: Dataset/Dataset/train_set/with fire/with fire (90).jpg  \n",
            "  inflating: Dataset/Dataset/train_set/with fire/with fire (91).jpg  \n",
            "  inflating: Dataset/Dataset/train_set/with fire/with fire (92).jpg  \n",
            "  inflating: Dataset/Dataset/train_set/with fire/with fire (93).jpg  \n",
            "  inflating: Dataset/Dataset/train_set/with fire/with fire (94).jpg  \n",
            "  inflating: Dataset/Dataset/train_set/with fire/with fire (95).jpg  \n",
            "  inflating: Dataset/Dataset/train_set/with fire/with fire (96).jpg  \n",
            "  inflating: Dataset/Dataset/train_set/with fire/with fire (97).jpg  \n",
            "  inflating: Dataset/Dataset/train_set/with fire/with fire (98).jpg  \n",
            "  inflating: Dataset/Dataset/train_set/with fire/with fire (99).jpg  \n",
            "  inflating: Dataset/Dataset/train_set/with fire/with fire.jpeg  \n",
            "  inflating: forest1.h5              \n"
          ]
        }
      ]
    },
    {
      "cell_type": "code",
      "source": [
        "import keras"
      ],
      "metadata": {
        "id": "jmkhNAIXNscf"
      },
      "execution_count": 7,
      "outputs": []
    },
    {
      "cell_type": "code",
      "source": [
        "from matplotlib import pyplot as plt\n",
        "from keras.preprocessing.image import ImageDataGenerator"
      ],
      "metadata": {
        "id": "vsjsSN5CNxfO"
      },
      "execution_count": 8,
      "outputs": []
    },
    {
      "cell_type": "code",
      "source": [
        "train_datagen=ImageDataGenerator(rescale=1./255,shear_range=0.2,rotation_range=180,zoom_range=0.2,horizontal_flip=True)\n",
        "test_datagen=ImageDataGenerator(rescale=1./255)"
      ],
      "metadata": {
        "id": "JaAcZZaINyL8"
      },
      "execution_count": 9,
      "outputs": []
    },
    {
      "cell_type": "code",
      "source": [
        "from google.colab import drive\n",
        "drive.mount('/content/drive')"
      ],
      "metadata": {
        "colab": {
          "base_uri": "https://localhost:8080/"
        },
        "id": "KeSmARK_N-ze",
        "outputId": "fa99303f-cf4e-403f-c2f1-aa4c7ba96db6"
      },
      "execution_count": 10,
      "outputs": [
        {
          "output_type": "stream",
          "name": "stdout",
          "text": [
            "Drive already mounted at /content/drive; to attempt to forcibly remount, call drive.mount(\"/content/drive\", force_remount=True).\n"
          ]
        }
      ]
    },
    {
      "cell_type": "code",
      "source": [
        "x_train=train_datagen.flow_from_directory('/content/drive/MyDrive/Dataset/Dataset/Dataset/train_set',\n",
        "                                          target_size=(128,128),batch_size=32,class_mode='binary')"
      ],
      "metadata": {
        "colab": {
          "base_uri": "https://localhost:8080/"
        },
        "id": "ic6TnBWZOE82",
        "outputId": "5dbd3cd3-3a47-4e02-cbf9-9a4bc5a01302"
      },
      "execution_count": 11,
      "outputs": [
        {
          "output_type": "stream",
          "name": "stdout",
          "text": [
            "Found 436 images belonging to 2 classes.\n"
          ]
        }
      ]
    },
    {
      "cell_type": "code",
      "source": [
        "x_test=test_datagen.flow_from_directory('/content/drive/MyDrive/Dataset/Dataset/Dataset/test_set',\n",
        "                                        target_size=(128,128),batch_size=32,class_mode='binary')"
      ],
      "metadata": {
        "colab": {
          "base_uri": "https://localhost:8080/"
        },
        "id": "DQKyBHL5Tw6M",
        "outputId": "a7065c57-f0c2-4f41-e2d8-f4edf348ffcd"
      },
      "execution_count": 12,
      "outputs": [
        {
          "output_type": "stream",
          "name": "stdout",
          "text": [
            "Found 121 images belonging to 2 classes.\n"
          ]
        }
      ]
    },
    {
      "cell_type": "code",
      "source": [
        "# MODEL BUILDING\n",
        "#to define the linear Initialisation import sequential\n",
        "from keras.models import Sequential\n",
        "#to add layers import Dense\n",
        "from keras.layers import Dense\n",
        "#to create Convolutional kernel import convolution2D\n",
        "from keras.layers import Convolution2D\n",
        "#import Maxpooling layer \n",
        "from keras.layers import MaxPooling2D\n",
        "#import flatten layer\n",
        "from keras.layers import Flatten\n",
        "import warnings\n",
        "warnings.filterwarnings('ignore')"
      ],
      "metadata": {
        "id": "V1CPcLl5UEhi"
      },
      "execution_count": 13,
      "outputs": []
    },
    {
      "cell_type": "code",
      "source": [
        "model=Sequential()\n"
      ],
      "metadata": {
        "id": "ZnS-bPpdUb8d"
      },
      "execution_count": 15,
      "outputs": []
    },
    {
      "cell_type": "code",
      "source": [
        "model.add(Convolution2D(32,(3,3),input_shape=(128,128,3),activation='relu'))\n",
        "#add maxpooling layers\n",
        "model.add(MaxPooling2D(pool_size=(2,2)))\n",
        "#add faltten layer\n",
        "model.add(Flatten())\n",
        "#add hidden layers\n",
        "model.add(Dense(150,activation='relu'))\n",
        "#add output layer\n",
        "model.add(Dense(1,activation='sigmoid'))\n",
        "model.compile(loss='binary_crossentropy',optimizer=\"adam\",metrics=[\"accuracy\"])\n",
        "model.fit_generator(x_train,steps_per_epoch=14,epochs=10,validation_data=x_test,validation_steps=4)"
      ],
      "metadata": {
        "colab": {
          "base_uri": "https://localhost:8080/"
        },
        "id": "TIyWwq0uU5sU",
        "outputId": "67332c67-facd-4079-b867-103484dcd534"
      },
      "execution_count": 16,
      "outputs": [
        {
          "output_type": "stream",
          "name": "stdout",
          "text": [
            "Epoch 1/10\n",
            "14/14 [==============================] - 191s 15s/step - loss: 2.8060 - accuracy: 0.6468 - val_loss: 0.2150 - val_accuracy: 0.9008\n",
            "Epoch 2/10\n",
            "14/14 [==============================] - 29s 2s/step - loss: 0.3663 - accuracy: 0.8211 - val_loss: 0.2222 - val_accuracy: 0.8512\n",
            "Epoch 3/10\n",
            "14/14 [==============================] - 27s 2s/step - loss: 0.2471 - accuracy: 0.8991 - val_loss: 0.1153 - val_accuracy: 0.9752\n",
            "Epoch 4/10\n",
            "14/14 [==============================] - 29s 2s/step - loss: 0.1888 - accuracy: 0.9266 - val_loss: 0.0843 - val_accuracy: 0.9752\n",
            "Epoch 5/10\n",
            "14/14 [==============================] - 28s 2s/step - loss: 0.1839 - accuracy: 0.9220 - val_loss: 0.0772 - val_accuracy: 0.9669\n",
            "Epoch 6/10\n",
            "14/14 [==============================] - 27s 2s/step - loss: 0.1631 - accuracy: 0.9335 - val_loss: 0.0696 - val_accuracy: 0.9669\n",
            "Epoch 7/10\n",
            "14/14 [==============================] - 29s 2s/step - loss: 0.1713 - accuracy: 0.9312 - val_loss: 0.0607 - val_accuracy: 0.9835\n",
            "Epoch 8/10\n",
            "14/14 [==============================] - 29s 2s/step - loss: 0.1424 - accuracy: 0.9450 - val_loss: 0.0574 - val_accuracy: 0.9752\n",
            "Epoch 9/10\n",
            "14/14 [==============================] - 27s 2s/step - loss: 0.1470 - accuracy: 0.9243 - val_loss: 0.0582 - val_accuracy: 0.9835\n",
            "Epoch 10/10\n",
            "14/14 [==============================] - 32s 2s/step - loss: 0.1419 - accuracy: 0.9312 - val_loss: 0.0729 - val_accuracy: 0.9752\n"
          ]
        },
        {
          "output_type": "execute_result",
          "data": {
            "text/plain": [
              "<keras.callbacks.History at 0x7f6c58136210>"
            ]
          },
          "metadata": {},
          "execution_count": 16
        }
      ]
    },
    {
      "cell_type": "code",
      "source": [
        "model.save(\"forest.h5\")"
      ],
      "metadata": {
        "id": "zP4Q5VyQXG1E"
      },
      "execution_count": 17,
      "outputs": []
    },
    {
      "cell_type": "code",
      "source": [
        "#import load model from keras.model\n",
        "from keras.models import load_model\n",
        "#import image from keras\n",
        "from tensorflow.keras.preprocessing import image\n",
        "import numpy as np\n",
        "#import cv2\n",
        "import cv2\n",
        "#load the saved model\n",
        "model=load_model('forest.h5')\n",
        "img=image.load_img('/content/drive/MyDrive/Dataset/Dataset/Dataset/test_set/forest/0.48007200_1530881924_final_forest.jpg')\n",
        "x=image.img_to_array(img)\n",
        "res=cv2.resize(x,dsize=(128,128),interpolation=cv2.INTER_CUBIC)\n",
        "#expand the image shape\n",
        "x=np.expand_dims(res,axis=0)"
      ],
      "metadata": {
        "id": "ZFhcDrN7XPSa"
      },
      "execution_count": 19,
      "outputs": []
    },
    {
      "cell_type": "code",
      "source": [
        "pred=model.predict(x)\n"
      ],
      "metadata": {
        "colab": {
          "base_uri": "https://localhost:8080/"
        },
        "id": "XydG80nqXfQ0",
        "outputId": "20206052-50d0-46af-e915-a49d5e41e24a"
      },
      "execution_count": 20,
      "outputs": [
        {
          "output_type": "stream",
          "name": "stdout",
          "text": [
            "1/1 [==============================] - 0s 134ms/step\n"
          ]
        }
      ]
    },
    {
      "cell_type": "code",
      "source": [
        "pred"
      ],
      "metadata": {
        "colab": {
          "base_uri": "https://localhost:8080/"
        },
        "id": "Ci3oFX0YXq9w",
        "outputId": "2f8ea082-55ff-435e-ea9b-4f25451d9c88"
      },
      "execution_count": 21,
      "outputs": [
        {
          "output_type": "execute_result",
          "data": {
            "text/plain": [
              "array([[0.]], dtype=float32)"
            ]
          },
          "metadata": {},
          "execution_count": 21
        }
      ]
    },
    {
      "cell_type": "code",
      "source": [
        "# VIDEO ANALYSIS\n"
      ],
      "metadata": {
        "id": "aD-ot5eaXrPj"
      },
      "execution_count": 22,
      "outputs": []
    },
    {
      "cell_type": "code",
      "source": [
        "pip install twilio"
      ],
      "metadata": {
        "colab": {
          "base_uri": "https://localhost:8080/"
        },
        "id": "8pK0w-53aIlM",
        "outputId": "80ab9fa3-32bd-4e28-be1c-a5570a503342"
      },
      "execution_count": 28,
      "outputs": [
        {
          "output_type": "stream",
          "name": "stdout",
          "text": [
            "Looking in indexes: https://pypi.org/simple, https://us-python.pkg.dev/colab-wheels/public/simple/\n",
            "Collecting twilio\n",
            "  Downloading twilio-7.15.3-py2.py3-none-any.whl (1.4 MB)\n",
            "\u001b[K     |████████████████████████████████| 1.4 MB 4.2 MB/s \n",
            "\u001b[?25hCollecting PyJWT<3.0.0,>=2.0.0\n",
            "  Downloading PyJWT-2.6.0-py3-none-any.whl (20 kB)\n",
            "Requirement already satisfied: requests>=2.0.0 in /usr/local/lib/python3.7/dist-packages (from twilio) (2.23.0)\n",
            "Requirement already satisfied: pytz in /usr/local/lib/python3.7/dist-packages (from twilio) (2022.6)\n",
            "Requirement already satisfied: chardet<4,>=3.0.2 in /usr/local/lib/python3.7/dist-packages (from requests>=2.0.0->twilio) (3.0.4)\n",
            "Requirement already satisfied: idna<3,>=2.5 in /usr/local/lib/python3.7/dist-packages (from requests>=2.0.0->twilio) (2.10)\n",
            "Requirement already satisfied: urllib3!=1.25.0,!=1.25.1,<1.26,>=1.21.1 in /usr/local/lib/python3.7/dist-packages (from requests>=2.0.0->twilio) (1.24.3)\n",
            "Requirement already satisfied: certifi>=2017.4.17 in /usr/local/lib/python3.7/dist-packages (from requests>=2.0.0->twilio) (2022.9.24)\n",
            "Installing collected packages: PyJWT, twilio\n",
            "Successfully installed PyJWT-2.6.0 twilio-7.15.3\n"
          ]
        }
      ]
    },
    {
      "cell_type": "code",
      "source": [
        "pip install playsound"
      ],
      "metadata": {
        "colab": {
          "base_uri": "https://localhost:8080/"
        },
        "id": "e4U3g1NKaPWI",
        "outputId": "f845e374-acba-4c66-da89-af3bfbd8e9bb"
      },
      "execution_count": 29,
      "outputs": [
        {
          "output_type": "stream",
          "name": "stdout",
          "text": [
            "Looking in indexes: https://pypi.org/simple, https://us-python.pkg.dev/colab-wheels/public/simple/\n",
            "Collecting playsound\n",
            "  Downloading playsound-1.3.0.tar.gz (7.7 kB)\n",
            "Building wheels for collected packages: playsound\n",
            "  Building wheel for playsound (setup.py) ... \u001b[?25l\u001b[?25hdone\n",
            "  Created wheel for playsound: filename=playsound-1.3.0-py3-none-any.whl size=7035 sha256=f8a3bc388ac6b93fffd6793e672333e80f9be3b60646497d0b39c41fc66bc13d\n",
            "  Stored in directory: /root/.cache/pip/wheels/ba/f8/bb/ea57c0146b664dca3a0ada4199b0ecb5f9dfcb7b7e22b65ba2\n",
            "Successfully built playsound\n",
            "Installing collected packages: playsound\n",
            "Successfully installed playsound-1.3.0\n"
          ]
        }
      ]
    },
    {
      "cell_type": "code",
      "source": [
        "pip install pygobject"
      ],
      "metadata": {
        "colab": {
          "base_uri": "https://localhost:8080/"
        },
        "id": "Q9XwBOWoaW8q",
        "outputId": "903d8456-61fe-46f0-842c-7105b59818f7"
      },
      "execution_count": 30,
      "outputs": [
        {
          "output_type": "stream",
          "name": "stdout",
          "text": [
            "Looking in indexes: https://pypi.org/simple, https://us-python.pkg.dev/colab-wheels/public/simple/\n",
            "Requirement already satisfied: pygobject in /usr/lib/python3/dist-packages (3.26.1)\n"
          ]
        }
      ]
    },
    {
      "cell_type": "code",
      "source": [
        "from twilio.rest import Client\n",
        "from playsound import playsound\n",
        "if pred==0:\n",
        "  print('Forest fire')\n",
        "  account_sid='AC80f3d03cdbb0f27e31568ed8e2ff4db4'\n",
        "  auth_token='4f6aa521bfa0bf0d3d8508a139c946f3'\n",
        "  client=Client(account_sid,auth_token)\n",
        "  message=client.messages \\\n",
        "  .create(\n",
        "      body='forest fire is detected,stay alert',\n",
        "      #use twilio free number\n",
        "      from_='+18304453233',\n",
        "      #to number\n",
        "      to='+919159572761')\n",
        "  print(message.sid)\n",
        "  print(\"Fire detected\")\n",
        "  print(\"SMS Sent!\")\n",
        "elif pred==1:\n",
        "  print('No Danger')"
      ],
      "metadata": {
        "colab": {
          "base_uri": "https://localhost:8080/"
        },
        "id": "rJMJGh3nYYF2",
        "outputId": "e3dfa196-df47-4ac6-a40a-394efcc4ed73"
      },
      "execution_count": 40,
      "outputs": [
        {
          "output_type": "stream",
          "name": "stdout",
          "text": [
            "Forest fire\n",
            "SM11ec976a62f33bfeb8d0b63ffe6eecb3\n",
            "Fire detected\n",
            "SMS Sent!\n"
          ]
        }
      ]
    },
    {
      "cell_type": "code",
      "source": [
        "from logging import WARNING\n",
        "#import opencv library\n",
        "import cv2\n",
        "#import numpy\n",
        "import numpy as np\n",
        "#import image function from keras\n",
        "from keras.preprocessing import image\n",
        "#import load_model from keras\n",
        "from keras.models import load_model\n",
        "#import client from twilio API\n",
        "from twilio.rest import Client\n",
        "#import playsound package\n",
        "from playsound import playsound"
      ],
      "metadata": {
        "id": "OWUQsGnHbtYy"
      },
      "execution_count": 33,
      "outputs": []
    },
    {
      "cell_type": "code",
      "source": [
        "import cv2 \n",
        "import numpy as np\n",
        "from google.colab.patches import cv2_imshow\n",
        "from matplotlib import pyplot as plt\n",
        "import librosa\n",
        "from tensorflow.keras.preprocessing import image\n",
        "from keras.models import load_model\n",
        "# Create a VideoCapture object and read from input file\n",
        "# If the input is the camera, pass 0 instead of the video file name\n",
        "cap = cv2.VideoCapture('/content/drive/MyDrive/IBM/Dataset/Dataset/test_set/with fire/19464620_401.jpg')\n",
        " \n",
        "# Check if camera opened successfully\n",
        "if (cap.isOpened()== False): \n",
        "  print(\"Error opening video stream or file\")\n",
        "\n",
        "# Read until video is completed\n",
        "while(cap.isOpened()):\n",
        "  # Capture frame-by-frame\n",
        "  ret, frame = cap.read()\n",
        "  if ret == True:\n",
        "    x=image.img_to_array(frame)\n",
        "    res=cv2.resize(x,dsize=(128,128),interpolation=cv2.INTER_CUBIC)\n",
        "    #expand the image shape\n",
        "    x=np.expand_dims(res,axis=0)\n",
        "    model=load_model(\"/content/drive/MyDrive/Dataset/Dataset/Dataset/test_set/with fire/599857.jpg\")\n",
        "    cv2_imshow(frame)\n",
        "    pred=model.predict(x)\n",
        "    pred = int(pred[0][0])\n",
        "    pred\n",
        "    int(pred)\n",
        "    if pred==0:\n",
        "      print('No danger')\n",
        "      break\n",
        "    else:\n",
        "      print(\"Forest fire\")\n",
        "      break\n",
        "  # When everything done, release the video capture object\n",
        "cap.release()\n",
        " \n",
        "# Closes all the frames\n",
        "cv2.destroyAllWindows"
      ],
      "metadata": {
        "colab": {
          "base_uri": "https://localhost:8080/"
        },
        "id": "aTeBI_fubwEQ",
        "outputId": "f910916a-76a1-4e66-865c-54fbad50b3b3"
      },
      "execution_count": 36,
      "outputs": [
        {
          "output_type": "stream",
          "name": "stdout",
          "text": [
            "Error opening video stream or file\n"
          ]
        },
        {
          "output_type": "execute_result",
          "data": {
            "text/plain": [
              "<function destroyAllWindows>"
            ]
          },
          "metadata": {},
          "execution_count": 36
        }
      ]
    },
    {
      "cell_type": "code",
      "source": [
        "# SENDING ALERT MESSAGE\n",
        "from twilio.rest import Client\n",
        "from playsound import playsound\n",
        "if pred==0:\n",
        "  print('Forest fire')\n",
        "  account_sid='AC80f3d03cdbb0f27e31568ed8e2ff4db4'\n",
        "  auth_token='4f6aa521bfa0bf0d3d8508a139c946f3'\n",
        "  client=Client(account_sid,auth_token)\n",
        "  message=client.messages \\\n",
        "  .create(\n",
        "      body='forest fire is detected,stay alert',\n",
        "      #use twilio free number\n",
        "      from_='+18304453233',\n",
        "      #to number\n",
        "      to='+919159572761')\n",
        "  print(message.sid)\n",
        "  print(\"No Danger\")\n",
        "  print(\"SMS Sent!\")\n",
        "elif pred==1:\n",
        "  print('Fire Detected')"
      ],
      "metadata": {
        "colab": {
          "base_uri": "https://localhost:8080/"
        },
        "id": "qG7CMBwhcXZL",
        "outputId": "ef132832-8ce2-483b-e632-f5d7dfd8330e"
      },
      "execution_count": 43,
      "outputs": [
        {
          "output_type": "stream",
          "name": "stdout",
          "text": [
            "Forest fire\n",
            "SMa473a6c538427fb9f5c76fa6b5506404\n",
            "No Danger\n",
            "SMS Sent!\n"
          ]
        }
      ]
    }
  ]
}